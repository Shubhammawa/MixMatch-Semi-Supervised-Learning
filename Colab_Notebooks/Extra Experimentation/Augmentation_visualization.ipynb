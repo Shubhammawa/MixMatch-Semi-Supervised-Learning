{
  "nbformat": 4,
  "nbformat_minor": 0,
  "metadata": {
    "colab": {
      "name": "Augmentation_visualization",
      "provenance": [],
      "collapsed_sections": [],
      "authorship_tag": "ABX9TyO6QqsoFowES6KHfLEIYsPz",
      "include_colab_link": true
    },
    "kernelspec": {
      "name": "python3",
      "display_name": "Python 3"
    },
    "widgets": {
      "application/vnd.jupyter.widget-state+json": {
        "7867849c325e46a3b26f79f286d49316": {
          "model_module": "@jupyter-widgets/controls",
          "model_name": "HBoxModel",
          "state": {
            "_view_name": "HBoxView",
            "_dom_classes": [],
            "_model_name": "HBoxModel",
            "_view_module": "@jupyter-widgets/controls",
            "_model_module_version": "1.5.0",
            "_view_count": null,
            "_view_module_version": "1.5.0",
            "box_style": "",
            "layout": "IPY_MODEL_1c49e6aafc274b34a8a58eb2d30e798b",
            "_model_module": "@jupyter-widgets/controls",
            "children": [
              "IPY_MODEL_78745a6b22eb45b689b2ece87882adb0",
              "IPY_MODEL_4ad5acd9c02f4d3c8e6df0f62371a516"
            ]
          }
        },
        "1c49e6aafc274b34a8a58eb2d30e798b": {
          "model_module": "@jupyter-widgets/base",
          "model_name": "LayoutModel",
          "state": {
            "_view_name": "LayoutView",
            "grid_template_rows": null,
            "right": null,
            "justify_content": null,
            "_view_module": "@jupyter-widgets/base",
            "overflow": null,
            "_model_module_version": "1.2.0",
            "_view_count": null,
            "flex_flow": null,
            "width": null,
            "min_width": null,
            "border": null,
            "align_items": null,
            "bottom": null,
            "_model_module": "@jupyter-widgets/base",
            "top": null,
            "grid_column": null,
            "overflow_y": null,
            "overflow_x": null,
            "grid_auto_flow": null,
            "grid_area": null,
            "grid_template_columns": null,
            "flex": null,
            "_model_name": "LayoutModel",
            "justify_items": null,
            "grid_row": null,
            "max_height": null,
            "align_content": null,
            "visibility": null,
            "align_self": null,
            "height": null,
            "min_height": null,
            "padding": null,
            "grid_auto_rows": null,
            "grid_gap": null,
            "max_width": null,
            "order": null,
            "_view_module_version": "1.2.0",
            "grid_template_areas": null,
            "object_position": null,
            "object_fit": null,
            "grid_auto_columns": null,
            "margin": null,
            "display": null,
            "left": null
          }
        },
        "78745a6b22eb45b689b2ece87882adb0": {
          "model_module": "@jupyter-widgets/controls",
          "model_name": "FloatProgressModel",
          "state": {
            "_view_name": "ProgressView",
            "style": "IPY_MODEL_70508b66894b498488b3e9ffe030f29c",
            "_dom_classes": [],
            "description": "",
            "_model_name": "FloatProgressModel",
            "bar_style": "info",
            "max": 1,
            "_view_module": "@jupyter-widgets/controls",
            "_model_module_version": "1.5.0",
            "value": 1,
            "_view_count": null,
            "_view_module_version": "1.5.0",
            "orientation": "horizontal",
            "min": 0,
            "description_tooltip": null,
            "_model_module": "@jupyter-widgets/controls",
            "layout": "IPY_MODEL_f038023d4a4f48a2a7ca52ab2078518c"
          }
        },
        "4ad5acd9c02f4d3c8e6df0f62371a516": {
          "model_module": "@jupyter-widgets/controls",
          "model_name": "HTMLModel",
          "state": {
            "_view_name": "HTMLView",
            "style": "IPY_MODEL_38ca5ee4e46e41b58d45efbfee5a850d",
            "_dom_classes": [],
            "description": "",
            "_model_name": "HTMLModel",
            "placeholder": "​",
            "_view_module": "@jupyter-widgets/controls",
            "_model_module_version": "1.5.0",
            "value": " 170500096/? [00:19&lt;00:00, 78498522.64it/s]",
            "_view_count": null,
            "_view_module_version": "1.5.0",
            "description_tooltip": null,
            "_model_module": "@jupyter-widgets/controls",
            "layout": "IPY_MODEL_55e2ceef0abc44b2b6437b4bbf99f049"
          }
        },
        "70508b66894b498488b3e9ffe030f29c": {
          "model_module": "@jupyter-widgets/controls",
          "model_name": "ProgressStyleModel",
          "state": {
            "_view_name": "StyleView",
            "_model_name": "ProgressStyleModel",
            "description_width": "initial",
            "_view_module": "@jupyter-widgets/base",
            "_model_module_version": "1.5.0",
            "_view_count": null,
            "_view_module_version": "1.2.0",
            "bar_color": null,
            "_model_module": "@jupyter-widgets/controls"
          }
        },
        "f038023d4a4f48a2a7ca52ab2078518c": {
          "model_module": "@jupyter-widgets/base",
          "model_name": "LayoutModel",
          "state": {
            "_view_name": "LayoutView",
            "grid_template_rows": null,
            "right": null,
            "justify_content": null,
            "_view_module": "@jupyter-widgets/base",
            "overflow": null,
            "_model_module_version": "1.2.0",
            "_view_count": null,
            "flex_flow": null,
            "width": null,
            "min_width": null,
            "border": null,
            "align_items": null,
            "bottom": null,
            "_model_module": "@jupyter-widgets/base",
            "top": null,
            "grid_column": null,
            "overflow_y": null,
            "overflow_x": null,
            "grid_auto_flow": null,
            "grid_area": null,
            "grid_template_columns": null,
            "flex": null,
            "_model_name": "LayoutModel",
            "justify_items": null,
            "grid_row": null,
            "max_height": null,
            "align_content": null,
            "visibility": null,
            "align_self": null,
            "height": null,
            "min_height": null,
            "padding": null,
            "grid_auto_rows": null,
            "grid_gap": null,
            "max_width": null,
            "order": null,
            "_view_module_version": "1.2.0",
            "grid_template_areas": null,
            "object_position": null,
            "object_fit": null,
            "grid_auto_columns": null,
            "margin": null,
            "display": null,
            "left": null
          }
        },
        "38ca5ee4e46e41b58d45efbfee5a850d": {
          "model_module": "@jupyter-widgets/controls",
          "model_name": "DescriptionStyleModel",
          "state": {
            "_view_name": "StyleView",
            "_model_name": "DescriptionStyleModel",
            "description_width": "",
            "_view_module": "@jupyter-widgets/base",
            "_model_module_version": "1.5.0",
            "_view_count": null,
            "_view_module_version": "1.2.0",
            "_model_module": "@jupyter-widgets/controls"
          }
        },
        "55e2ceef0abc44b2b6437b4bbf99f049": {
          "model_module": "@jupyter-widgets/base",
          "model_name": "LayoutModel",
          "state": {
            "_view_name": "LayoutView",
            "grid_template_rows": null,
            "right": null,
            "justify_content": null,
            "_view_module": "@jupyter-widgets/base",
            "overflow": null,
            "_model_module_version": "1.2.0",
            "_view_count": null,
            "flex_flow": null,
            "width": null,
            "min_width": null,
            "border": null,
            "align_items": null,
            "bottom": null,
            "_model_module": "@jupyter-widgets/base",
            "top": null,
            "grid_column": null,
            "overflow_y": null,
            "overflow_x": null,
            "grid_auto_flow": null,
            "grid_area": null,
            "grid_template_columns": null,
            "flex": null,
            "_model_name": "LayoutModel",
            "justify_items": null,
            "grid_row": null,
            "max_height": null,
            "align_content": null,
            "visibility": null,
            "align_self": null,
            "height": null,
            "min_height": null,
            "padding": null,
            "grid_auto_rows": null,
            "grid_gap": null,
            "max_width": null,
            "order": null,
            "_view_module_version": "1.2.0",
            "grid_template_areas": null,
            "object_position": null,
            "object_fit": null,
            "grid_auto_columns": null,
            "margin": null,
            "display": null,
            "left": null
          }
        }
      }
    }
  },
  "cells": [
    {
      "cell_type": "markdown",
      "metadata": {
        "id": "view-in-github",
        "colab_type": "text"
      },
      "source": [
        "<a href=\"https://colab.research.google.com/github/awl-shubham-mawa/AWL-Internship/blob/master/MixMatch/Colab%20Notebooks/Extra%20Experimentation/Augmentation_visualization.ipynb\" target=\"_parent\"><img src=\"https://colab.research.google.com/assets/colab-badge.svg\" alt=\"Open In Colab\"/></a>"
      ]
    },
    {
      "cell_type": "code",
      "metadata": {
        "id": "rxMf2o9UD07Y",
        "colab_type": "code",
        "colab": {}
      },
      "source": [
        "import numpy as np\n",
        "import pandas as pd\n",
        "import os\n",
        "import time\n",
        "import torch\n",
        "import torch.nn as nn\n",
        "import torch.nn.functional as F\n",
        "import sys\n",
        "import math\n",
        "\n",
        "import torchvision\n",
        "from torchvision import models\n",
        "from torch.utils.data import Dataset\n",
        "from torch.utils.data import DataLoader\n",
        "from torchsummary import summary\n",
        "\n",
        "from torchvision import transforms\n",
        "from PIL import Image\n",
        "import torchvision.transforms.functional as TF\n",
        "\n",
        "import matplotlib.pyplot as plt"
      ],
      "execution_count": 1,
      "outputs": []
    },
    {
      "cell_type": "code",
      "metadata": {
        "id": "z1-dfSzkEYgE",
        "colab_type": "code",
        "colab": {
          "base_uri": "https://localhost:8080/",
          "height": 82,
          "referenced_widgets": [
            "7867849c325e46a3b26f79f286d49316",
            "1c49e6aafc274b34a8a58eb2d30e798b",
            "78745a6b22eb45b689b2ece87882adb0",
            "4ad5acd9c02f4d3c8e6df0f62371a516",
            "70508b66894b498488b3e9ffe030f29c",
            "f038023d4a4f48a2a7ca52ab2078518c",
            "38ca5ee4e46e41b58d45efbfee5a850d",
            "55e2ceef0abc44b2b6437b4bbf99f049"
          ]
        },
        "outputId": "d052b177-957c-475b-d564-6097aedef34a"
      },
      "source": [
        "trainset = torchvision.datasets.CIFAR10(root = './data', train=True, transform = transforms.ToTensor(), download=True)\n",
        "trainloader = torch.utils.data.DataLoader(trainset, batch_size=1)"
      ],
      "execution_count": 2,
      "outputs": [
        {
          "output_type": "stream",
          "text": [
            "Downloading https://www.cs.toronto.edu/~kriz/cifar-10-python.tar.gz to ./data/cifar-10-python.tar.gz\n"
          ],
          "name": "stdout"
        },
        {
          "output_type": "display_data",
          "data": {
            "application/vnd.jupyter.widget-view+json": {
              "model_id": "7867849c325e46a3b26f79f286d49316",
              "version_minor": 0,
              "version_major": 2
            },
            "text/plain": [
              "HBox(children=(FloatProgress(value=1.0, bar_style='info', max=1.0), HTML(value='')))"
            ]
          },
          "metadata": {
            "tags": []
          }
        },
        {
          "output_type": "stream",
          "text": [
            "Extracting ./data/cifar-10-python.tar.gz to ./data\n"
          ],
          "name": "stdout"
        }
      ]
    },
    {
      "cell_type": "code",
      "metadata": {
        "id": "Ns5fRgOnQBFP",
        "colab_type": "code",
        "colab": {
          "base_uri": "https://localhost:8080/",
          "height": 309
        },
        "outputId": "08a802ac-2336-45d8-a943-a0f07e83a7d2"
      },
      "source": [
        "def imshow(img, title):\n",
        "    '''Function imshow: Helper function to display an image'''\n",
        "    batch_size = 1\n",
        "    plt.figure(figsize=(batch_size * 16, 8))\n",
        "    plt.axis('off')\n",
        "    plt.imshow(np.transpose(img, (1, 2, 0)))\n",
        "    plt.title(title)\n",
        "    plt.show()\n",
        "\n",
        "def show_batch_images(dataloader):\n",
        "    '''Function show_batch_images: Helper function to display images with their true ages'''\n",
        "    images, target = next(iter(dataloader))\n",
        "    \n",
        "    print(np.shape(images[0]))\n",
        "    # Functional transforms\n",
        "    images_t = TF.to_pil_image(images[0])\n",
        "    # Adjust brightness\n",
        "    images_tranform_1 = TF.to_tensor(TF.adjust_brightness(images_t, 0.5))\n",
        "    images_tranform_2 = TF.to_tensor(TF.adjust_brightness(images_t, 1.5))\n",
        "    \n",
        "    # Adjust contrast\n",
        "    images_tranform_3 = TF.to_tensor(TF.adjust_contrast(images_t, 0.5))\n",
        "    images_tranform_4 = TF.to_tensor(TF.adjust_contrast(images_t, 1.5))\n",
        "\n",
        "    # Adjust hue\n",
        "    images_tranform_5 = TF.to_tensor(TF.adjust_hue(images_t, 0.3))\n",
        "    images_tranform_6 = TF.to_tensor(TF.adjust_hue(images_t, -0.3))\n",
        "\n",
        "    # Adjust saturation\n",
        "    images_tranform_7 = TF.to_tensor(TF.adjust_saturation(images_t, 0.5))\n",
        "    images_tranform_8 = TF.to_tensor(TF.adjust_saturation(images_t, 1.5))\n",
        "\n",
        "    # Horizontal flip\n",
        "    images_tranform_9  = TF.to_tensor(TF.hflip(images_t))\n",
        "\n",
        "    img_list = [images[0], images_tranform_1, images_tranform_2, images_tranform_3,\n",
        "                images_tranform_4, images_tranform_5, images_tranform_6, images_tranform_7,\n",
        "                images_tranform_8, images_tranform_9]\n",
        "    img = torchvision.utils.make_grid(img_list)\n",
        "    # img_t1 = torchvision.utils.make_grid(images_tranform_1)\n",
        "    # img_t2 = torchvision.utils.make_grid(images_tranform_2)\n",
        "    # img_t3 = torchvision.utils.make_grid(images_tranform_3)\n",
        "    # img_t4 = torchvision.utils.make_grid(images_tranform_4)\n",
        "    \n",
        "    imshow(img, title = 'Images')\n",
        "    print(target)\n",
        "    # imshow(img_t1, title = 'Brightness 0.5')\n",
        "    # imshow(img_t2, title = 'Brightness 1.5')\n",
        "    # imshow(img_t3, title = 'Contrast 0.5')\n",
        "    # imshow(img_t4, title = 'Contrast 0.5')\n",
        "\n",
        "    return images, target\n",
        "images, target = show_batch_images(trainloader)"
      ],
      "execution_count": 3,
      "outputs": [
        {
          "output_type": "stream",
          "text": [
            "torch.Size([3, 32, 32])\n"
          ],
          "name": "stdout"
        },
        {
          "output_type": "display_data",
          "data": {
            "image/png": "[encoded data removed]",
            "text/plain": [
              "<Figure size 1152x576 with 1 Axes>"
            ]
          },
          "metadata": {
            "tags": [],
            "needs_background": "light"
          }
        },
        {
          "output_type": "stream",
          "text": [
            "tensor([6])\n"
          ],
          "name": "stdout"
        }
      ]
    },
    {
      "cell_type": "code",
      "metadata": {
        "id": "eM9Evt0_QRhU",
        "colab_type": "code",
        "colab": {}
      },
      "source": [
        "custom_transform = transforms.Compose([transforms.ColorJitter(brightness=(0.5,1.5), contrast=(0.5,1.5), saturation=(0.5,1.5)),\n",
        "                                       transforms.RandomHorizontalFlip(0.5),\n",
        "                                       transforms.RandomRotation((-10,10)),\n",
        "                                       transforms.Resize((32,32))])"
      ],
      "execution_count": 16,
      "outputs": []
    },
    {
      "cell_type": "code",
      "metadata": {
        "id": "RD-GobsB5oxz",
        "colab_type": "code",
        "colab": {
          "base_uri": "https://localhost:8080/",
          "height": 50
        },
        "outputId": "56febcb6-ce8a-400c-9919-8952d7f1737c"
      },
      "source": [
        "print(type(images))\n",
        "print(np.shape(images[0]))"
      ],
      "execution_count": 17,
      "outputs": [
        {
          "output_type": "stream",
          "text": [
            "<class 'torch.Tensor'>\n",
            "torch.Size([3, 32, 32])\n"
          ],
          "name": "stdout"
        }
      ]
    },
    {
      "cell_type": "code",
      "metadata": {
        "id": "Rzc7XtPt5wmz",
        "colab_type": "code",
        "colab": {
          "base_uri": "https://localhost:8080/",
          "height": 283
        },
        "outputId": "bcc83071-69d6-40bd-892a-460ff1e9917b"
      },
      "source": [
        "img = images[0]\n",
        "img_1 = custom_transform(TF.to_pil_image(img))\n",
        "img = np.transpose(img, (1,2,0))\n",
        "img_1 = np.transpose(img_1, (0,1,2))\n",
        "img_grid = torchvision.utils.make_grid(img,img_1)\n",
        "plt.imshow(img)"
      ],
      "execution_count": 46,
      "outputs": [
        {
          "output_type": "execute_result",
          "data": {
            "text/plain": [
              "<matplotlib.image.AxesImage at 0x7f2b5c000c88>"
            ]
          },
          "metadata": {
            "tags": []
          },
          "execution_count": 46
        },
        {
          "output_type": "display_data",
          "data": {
            "image/png": "[encoded data removed]",
            "text/plain": [
              "<Figure size 432x288 with 1 Axes>"
            ]
          },
          "metadata": {
            "tags": [],
            "needs_background": "light"
          }
        }
      ]
    },
    {
      "cell_type": "code",
      "metadata": {
        "id": "us0Hczls51fj",
        "colab_type": "code",
        "colab": {
          "base_uri": "https://localhost:8080/",
          "height": 283
        },
        "outputId": "35fc12cc-3705-44a0-8ff7-07a7cb0fd412"
      },
      "source": [
        "plt.imshow(img_1)"
      ],
      "execution_count": 47,
      "outputs": [
        {
          "output_type": "execute_result",
          "data": {
            "text/plain": [
              "<matplotlib.image.AxesImage at 0x7f2b5bff10f0>"
            ]
          },
          "metadata": {
            "tags": []
          },
          "execution_count": 47
        },
        {
          "output_type": "display_data",
          "data": {
            "image/png": "[encoded data removed]",
            "text/plain": [
              "<Figure size 432x288 with 1 Axes>"
            ]
          },
          "metadata": {
            "tags": [],
            "needs_background": "light"
          }
        }
      ]
    },
    {
      "cell_type": "code",
      "metadata": {
        "id": "f-r2XY2O7W9j",
        "colab_type": "code",
        "colab": {}
      },
      "source": [
        ""
      ],
      "execution_count": null,
      "outputs": []
    }
  ]
}